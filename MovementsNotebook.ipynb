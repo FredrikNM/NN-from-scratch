{
 "cells": [
  {
   "cell_type": "code",
   "execution_count": 1,
   "metadata": {},
   "outputs": [],
   "source": [
    "\n",
    "import numpy as np\n",
    "import mlp\n",
    "import time\n",
    "import matplotlib.pyplot as plt\n",
    "import os\n"
   ]
  },
  {
   "cell_type": "code",
   "execution_count": 2,
   "metadata": {},
   "outputs": [],
   "source": [
    "\n",
    "# LOAD DATA\n",
    "path = os.getcwd()\n",
    "filename = path+'\\data\\movements_day1-3.dat'\n",
    "movements = np.loadtxt(filename,delimiter='\\t')\n",
    "\n"
   ]
  },
  {
   "cell_type": "code",
   "execution_count": 3,
   "metadata": {},
   "outputs": [],
   "source": [
    "\n",
    "\n",
    "# Subtract arithmetic mean for each sensor. We only care about how it varies:\n",
    "movements[:,:40] = movements[:,:40] - movements[:,:40].mean(axis=0)\n",
    "\n",
    "# Find maximum absolute value:\n",
    "imax = np.concatenate(  ( movements.max(axis=0) * np.ones((1,41)) ,\n",
    "                          np.abs( movements.min(axis=0) * np.ones((1,41)) ) ),\n",
    "                          axis=0 ).max(axis=0)\n",
    "\n",
    "# Divide by imax, values should now be between -1,1\n",
    "movements[:,:40] = movements[:,:40]/imax[:40]\n",
    "\n",
    "# Generate target vectors for all inputs 2 -> [0,1,0,0,0,0,0,0]\n",
    "target = np.zeros((np.shape(movements)[0],8));\n",
    "for x in range(1,9):\n",
    "    indices = np.where(movements[:,40]==x)\n",
    "    target[indices,x-1] = 1\n",
    "\n",
    "# Randomly order the data\n",
    "order = list(range(np.shape(movements)[0]))\n",
    "np.random.shuffle(order)\n",
    "movements = movements[order,:]\n",
    "target = target[order,:]\n",
    "\n",
    "# Split data into 3 sets\n",
    "\n",
    "# Training updates the weights of the network and thus improves the network\n",
    "train = movements[::2,0:40]\n",
    "train_targets = target[::2]\n",
    "\n",
    "# Validation checks how well the network is performing and when to stop\n",
    "valid = movements[1::4,0:40]\n",
    "valid_targets = target[1::4]\n",
    "\n",
    "# Test data is used to evaluate how good the completely trained network is.\n",
    "test = movements[3::4,0:40]\n",
    "test_targets = target[3::4]\n",
    "\n"
   ]
  },
  {
   "cell_type": "code",
   "execution_count": 4,
   "metadata": {
    "scrolled": false
   },
   "outputs": [
    {
     "name": "stdout",
     "output_type": "stream",
     "text": [
      "(224, 40)\n",
      "START\n",
      "hidden nodes = 15 ,iterations choosen = 1000\n",
      "--------- 0.4548299312591553 seconds ---------\n",
      "\n",
      "errorrate = 0.05405405405405406% after running NN 317 iterations\n",
      "[[14.  0.  0.  0.  0.  0.  0.  0.]\n",
      " [ 0. 19.  0.  0.  0.  0.  0.  0.]\n",
      " [ 1.  0. 19.  0.  0.  0.  0.  0.]\n",
      " [ 0.  0.  0. 12.  0.  0.  0.  1.]\n",
      " [ 1.  0.  0.  2. 14.  0.  0.  0.]\n",
      " [ 0.  0.  0.  0.  0.  9.  0.  0.]\n",
      " [ 0.  0.  0.  0.  0.  1. 10.  0.]\n",
      " [ 0.  0.  0.  0.  0.  0.  0.  8.]]\n",
      "THE END\n",
      "====================================\n"
     ]
    },
    {
     "data": {
      "image/png": "[encoded data removed]",
      "text/plain": [
       "<Figure size 432x288 with 1 Axes>"
      ]
     },
     "metadata": {},
     "output_type": "display_data"
    },
    {
     "name": "stdout",
     "output_type": "stream",
     "text": [
      "START\n",
      "hidden nodes = 15 ,iterations choosen = 10000\n",
      "--------- 0.3422400951385498 seconds ---------\n",
      "\n",
      "errorrate = 0.05405405405405406% after running NN 225 iterations\n",
      "[[14.  0.  0.  0.  0.  0.  0.  0.]\n",
      " [ 0. 19.  0.  0.  0.  0.  0.  0.]\n",
      " [ 1.  0. 19.  0.  0.  0.  0.  0.]\n",
      " [ 0.  0.  0. 12.  0.  0.  0.  1.]\n",
      " [ 1.  0.  0.  2. 14.  0.  0.  0.]\n",
      " [ 0.  0.  0.  0.  0.  9.  0.  0.]\n",
      " [ 0.  0.  0.  0.  0.  1. 10.  0.]\n",
      " [ 0.  0.  0.  0.  0.  0.  0.  8.]]\n",
      "THE END\n",
      "====================================\n"
     ]
    },
    {
     "data": {
      "image/png": "[encoded data removed]",
      "text/plain": [
       "<Figure size 432x288 with 1 Axes>"
      ]
     },
     "metadata": {},
     "output_type": "display_data"
    },
    {
     "name": "stdout",
     "output_type": "stream",
     "text": [
      "(224, 40)\n",
      "START\n",
      "hidden nodes = 30 ,iterations choosen = 1000\n",
      "--------- 0.5682728290557861 seconds ---------\n",
      "\n",
      "errorrate = 0.04504504504504504% after running NN 331 iterations\n",
      "[[14.  0.  0.  0.  0.  0.  0.  0.]\n",
      " [ 0. 19.  0.  0.  0.  0.  0.  0.]\n",
      " [ 1.  0. 19.  0.  0.  0.  0.  0.]\n",
      " [ 0.  0.  0. 12.  0.  0.  0.  0.]\n",
      " [ 1.  0.  0.  2. 14.  0.  0.  0.]\n",
      " [ 0.  0.  0.  0.  0.  9.  0.  0.]\n",
      " [ 0.  0.  0.  0.  0.  1. 10.  0.]\n",
      " [ 0.  0.  0.  0.  0.  0.  0.  9.]]\n",
      "THE END\n",
      "====================================\n"
     ]
    },
    {
     "data": {
      "image/png": "[encoded data removed]",
      "text/plain": [
       "<Figure size 432x288 with 1 Axes>"
      ]
     },
     "metadata": {},
     "output_type": "display_data"
    },
    {
     "name": "stdout",
     "output_type": "stream",
     "text": [
      "START\n",
      "hidden nodes = 30 ,iterations choosen = 10000\n",
      "--------- 0.32839035987854004 seconds ---------\n",
      "\n",
      "errorrate = 0.04504504504504504% after running NN 225 iterations\n",
      "[[14.  0.  0.  0.  0.  0.  0.  0.]\n",
      " [ 0. 19.  0.  0.  0.  0.  0.  0.]\n",
      " [ 1.  0. 19.  0.  0.  0.  0.  0.]\n",
      " [ 0.  0.  0. 12.  0.  0.  0.  0.]\n",
      " [ 1.  0.  0.  2. 14.  0.  0.  0.]\n",
      " [ 0.  0.  0.  0.  0.  9.  0.  0.]\n",
      " [ 0.  0.  0.  0.  0.  1. 10.  0.]\n",
      " [ 0.  0.  0.  0.  0.  0.  0.  9.]]\n",
      "THE END\n",
      "====================================\n"
     ]
    },
    {
     "data": {
      "image/png": "[encoded data removed]",
      "text/plain": [
       "<Figure size 432x288 with 1 Axes>"
      ]
     },
     "metadata": {},
     "output_type": "display_data"
    }
   ],
   "source": [
    "\n",
    "\n",
    "# Run training:\n",
    "for i in range(2):\n",
    "    iteratio = [1000, 10000]\n",
    "    hidden = [15,30]\n",
    "    net = mlp.mlp(train, train_targets, hidden[i], momentum = 0.00)\n",
    "    for j in range(2):\n",
    "        start_time = time.time()\n",
    "        rounds = iteratio[j]\n",
    "        print('START')\n",
    "        print('hidden nodes = %s ,iterations choosen = %s' % (hidden[i],iteratio[j]))\n",
    "        terror, verror, itera = net.earlystopping(train, train_targets, valid, valid_targets, rounds, treshold = 0.03)\n",
    "        time_taken = time.time() - start_time\n",
    "        print(\"--------- %s seconds ---------\\n\" % time_taken)\n",
    "        h, y, out = net.forward(test, test_targets)\n",
    "        print( 'errorrate = %s%% after running NN %s iterations' % (y, itera))\n",
    "        print(net.confusion(out, test_targets))\n",
    "        print('THE END')\n",
    "        print('====================================')\n",
    "        line1, = plt.plot(terror, label = \"train\", linestyle= '--')\n",
    "        line2, = plt.plot(verror, label = \"val\", linestyle= '-')\n",
    "        plt.legend(loc='upper right')\n",
    "        plt.show()\n",
    "\n"
   ]
  },
  {
   "cell_type": "code",
   "execution_count": null,
   "metadata": {},
   "outputs": [],
   "source": []
  }
 ],
 "metadata": {
  "kernelspec": {
   "display_name": "Python 3",
   "language": "python",
   "name": "python3"
  },
  "language_info": {
   "codemirror_mode": {
    "name": "ipython",
    "version": 3
   },
   "file_extension": ".py",
   "mimetype": "text/x-python",
   "name": "python",
   "nbconvert_exporter": "python",
   "pygments_lexer": "ipython3",
   "version": "3.6.4"
  }
 },
 "nbformat": 4,
 "nbformat_minor": 2
}
